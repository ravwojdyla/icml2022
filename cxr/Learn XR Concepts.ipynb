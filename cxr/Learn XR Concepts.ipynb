{
 "cells": [
  {
   "cell_type": "code",
   "execution_count": null,
   "metadata": {
    "collapsed": true
   },
   "outputs": [],
   "source": [
    "## Below script is obtained from Eric Wu (github:ericwu09) and modified. \n",
    "# This was used for the purposes of the following project: https://github.com/ericwu09/medical-ai-evaluation\n",
    "\n",
    "import os\n",
    "import argparse\n",
    "import json\n",
    "from easydict import EasyDict as edict\n",
    "import torch\n",
    "import numpy as np\n",
    "from torch.utils.data import DataLoader\n",
    "from torch.nn import DataParallel\n",
    "import torch.nn as nn\n",
    "import torch.nn.functional as F\n",
    "from torchvision import transforms\n",
    "import pickle\n",
    "from tqdm import tqdm\n",
    "from concept_utils import DensenetCXRBottom, DensenetCXRTop, learn_concept, get_embedding\n",
    "import pandas as pd\n",
    "\n",
    "from data.dataset import ImageDataset  # noqa\n",
    "from model.classifier import Classifier  # noqa\n",
    "\n",
    "parser = argparse.ArgumentParser(description='Test model')\n",
    "\n",
    "model_paths = {\"nih\": \"/path/ptx/chexpert_models/nih/nih_sr_1\"}\n",
    "\n",
    "train_dfs = {\n",
    "            \"cxp\": \"/path/data/cxp/chexpert_full/splits/v0/train_df.csv\"\n",
    "}\n",
    "\n",
    "model_ds = \"nih\"\n",
    "test_ds = \"cxp\"\n",
    "\n",
    "MODEL_PATH = model_paths[model_ds]\n",
    "IN_CSV_PATH = train_dfs[test_ds]\n",
    "\n",
    "\n",
    "\n",
    "parser = argparse.ArgumentParser()\n",
    "parser.add_argument('--model-path', default=MODEL_PATH, metavar='MODEL-PATH',\n",
    "                    type=str, help=\"Path to the trained models\")\n",
    "parser.add_argument('--in_csv_path', default=IN_CSV_PATH, metavar='IN_CSV_PATH',\n",
    "                    type=str, help=\"Path to the input image path in csv\")\n",
    "parser.add_argument('--num-workers', default=2, type=int)\n",
    "parser.add_argument('--batch-size', default=8, type=int)\n",
    "parser.add_argument('-f')\n",
    "parser.add_argument(\"--seed\", default=1, type=int)\n",
    "parser.add_argument(\"--n-samples\", default=100, type=int)\n",
    "parser.add_argument(\"--C\", default=0.001, type=float)\n",
    "\n",
    "if not os.path.exists('test'):\n",
    "    os.mkdir('test')\n",
    "args = parser.parse_args()\n"
   ]
  },
  {
   "cell_type": "code",
   "execution_count": null,
   "metadata": {},
   "outputs": [],
   "source": [
    "concept_bank = {}\n",
    "with open(os.path.join(args.model_path, 'cfg.json')) as f:\n",
    "    cfg = edict(json.load(f))\n",
    "\n",
    "device = \"cuda\"\n",
    "model = Classifier(cfg)\n",
    "model = DataParallel(model).to(device).eval()\n",
    "print(\"Model is initialized!!\")\n",
    "ckpt_path = os.path.join(args.model_path, 'best1.ckpt')\n",
    "ckpt = torch.load(ckpt_path, map_location=device)\n",
    "model.module.load_state_dict(ckpt['state_dict'])\n",
    "\n",
    "model_bottom, model_top = DensenetCXRBottom(model), DensenetCXRTop(model)\n",
    "print(\"Model is loaded!!\")\n",
    "model_bottom = model_bottom.eval()"
   ]
  },
  {
   "cell_type": "code",
   "execution_count": null,
   "metadata": {
    "collapsed": true
   },
   "outputs": [],
   "source": [
    "## CXP\n",
    "df = pd.read_csv(IN_CSV_PATH)\n",
    "df.head()\n",
    "metavars = [\"Sex\", \"AP/PA\", \"Frontal/Lateral\"]\n",
    "df = pd.get_dummies(df, columns=metavars)\n",
    "df[\"View Position_AP\"] = df[\"AP/PA_AP\"]\n",
    "df[\"Patient Gender_F\"] = df[\"Sex_Female\"]\n",
    "df[\"Lateral\"] = df[\"Frontal/Lateral_Lateral\"]\n",
    "df[\"Age<24\"] = (df[\"Age\"] < 24).astype(int)\n",
    "df[\"Age>60\"] = (df[\"Age\"] > 60).astype(int)\n",
    "df.drop([\"AP/PA_AP\", \"Sex_Female\", \"Frontal/Lateral_Lateral\"], axis=1)\n",
    "df.head()\n",
    "metalabels = [\"Patient Gender_F\", \"Age<24\", \"Age>60\", \"Atelectasis\", \"Cardiomegaly\", \"Lateral\", \"View Position_AP\"]"
   ]
  },
  {
   "cell_type": "code",
   "execution_count": null,
   "metadata": {},
   "outputs": [],
   "source": [
    "xr_concepts = {}\n",
    "with torch.no_grad():\n",
    "    for var in metalabels:\n",
    "        np.random.seed(1)\n",
    "        pos_df = df[df[var] == 1].sample(args.n_samples)\n",
    "        neg_df = df[df[var] == 0].sample(args.n_samples)\n",
    "        pos_df.to_csv(\"./temp_pos.csv\")\n",
    "        neg_df.to_csv(\"./temp_neg.csv\")\n",
    "        pos_loader = DataLoader(\n",
    "                    ImageDataset(\"./temp_pos.csv\", cfg, mode='test', sample_n=args.n_samples),\n",
    "                    batch_size=args.batch_size, num_workers=args.num_workers,\n",
    "                    drop_last=False, shuffle=True)\n",
    "        neg_loader = DataLoader(\n",
    "                    ImageDataset(\"./temp_neg.csv\", cfg, mode='test', sample_n=args.n_samples),\n",
    "                    batch_size=args.batch_size, num_workers=args.num_workers,\n",
    "                    drop_last=False, shuffle=True)\n",
    "        pos_acts = get_embedding(pos_loader, model_bottom, n_samples=args.n_samples, device=\"cuda\")\n",
    "        neg_acts = get_embedding(neg_loader, model_bottom, n_samples=args.n_samples, device=\"cuda\")\n",
    "        acts = torch.cat([pos_acts, neg_acts], dim=0).cpu().numpy()\n",
    "        c_labels = torch.cat([torch.ones(args.n_samples), torch.zeros(args.n_samples)], dim=0).cpu().numpy()\n",
    "        concept_info = learn_concept(acts, c_labels, args, C=args.C)\n",
    "        xr_concepts[var] = concept_info\n",
    "        print(var, concept_info[1], concept_info[2])"
   ]
  },
  {
   "cell_type": "code",
   "execution_count": null,
   "metadata": {
    "collapsed": true
   },
   "outputs": [],
   "source": [
    "for c, c_info in xr_concepts.items():\n",
    "    assert c not in concept_bank\n",
    "    concept_bank[c] = c_info\n",
    "\n",
    "with open(f\"./cxr_concept_densenet_{model_ds}_on_{test_ds}.pkl\", \"wb\") as f:\n",
    "    pickle.dump(concept_bank, f)"
   ]
  },
  {
   "cell_type": "code",
   "execution_count": null,
   "metadata": {
    "collapsed": true
   },
   "outputs": [],
   "source": []
  },
  {
   "cell_type": "code",
   "execution_count": null,
   "metadata": {
    "collapsed": true
   },
   "outputs": [],
   "source": []
  }
 ],
 "metadata": {
  "kernelspec": {
   "display_name": "Python 3",
   "language": "python",
   "name": "python3"
  },
  "language_info": {
   "codemirror_mode": {
    "name": "ipython",
    "version": 3
   },
   "file_extension": ".py",
   "mimetype": "text/x-python",
   "name": "python",
   "nbconvert_exporter": "python",
   "pygments_lexer": "ipython3",
   "version": "3.6.1"
  }
 },
 "nbformat": 4,
 "nbformat_minor": 2
}
